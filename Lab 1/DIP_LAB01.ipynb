{
  "nbformat": 4,
  "nbformat_minor": 0,
  "metadata": {
    "colab": {
      "name": "DIP_LAB01.ipynb",
      "provenance": [],
      "collapsed_sections": []
    },
    "kernelspec": {
      "name": "python3",
      "display_name": "Python 3"
    },
    "language_info": {
      "name": "python"
    }
  },
  "cells": [
    {
      "cell_type": "markdown",
      "metadata": {
        "id": "GInpFGTXvqeI"
      },
      "source": [
        "# Task 1\n",
        "Write down a python program which takes two strings as input and calculate the\n",
        "Levenshtein/Edit distance between the two strings.\n"
      ]
    },
    {
      "cell_type": "code",
      "metadata": {
        "id": "u7h3VyWDH-lS"
      },
      "source": [
        "import numpy as np"
      ],
      "execution_count": null,
      "outputs": []
    },
    {
      "cell_type": "code",
      "metadata": {
        "id": "3ZbqQTBtImjA"
      },
      "source": [
        "def levenshteinFormula(i,j,str1,str2,matrix):\n",
        "  if (min(i,j)==0):\n",
        "    return max(i,j)\n",
        "  else:\n",
        "    a = matrix[i-1][j]+1\n",
        "    b = matrix[i][j-1]+1\n",
        "    if (str1[i-1]!=str2[j-1]):\n",
        "      c = matrix[i-1][j-1]+1\n",
        "    else:\n",
        "      c = matrix[i-1][j-1]\n",
        "    return min(a,b,c)"
      ],
      "execution_count": null,
      "outputs": []
    },
    {
      "cell_type": "code",
      "metadata": {
        "id": "6x8FlTfY316J"
      },
      "source": [
        "def levenshteinDistance(str1,str2):\n",
        "  lenx = len(str1)+1\n",
        "  leny = len(str2)+1\n",
        "  matrix = np.zeros((lenx,leny))\n",
        "  for x in range(lenx):\n",
        "    matrix[x,0]=x\n",
        "  for y in range(leny):\n",
        "    matrix[0,y]=y\n",
        "  for x in range(1,lenx):\n",
        "    for y in range(1,leny):\n",
        "      matrix[x][y]=levenshteinFormula(x,y,str1,str2,matrix)\n",
        "  print(matrix)\n",
        "  print(f\"Total operations required to to change text is {matrix[lenx-1][leny-1]}\")\n",
        "\n",
        "  f = open(\"/home/DIP/result.txt\", \"w\")\n",
        "  f.write(f\"Total operations required to change text is {matrix[lenx-1][leny-1]}\")\n",
        "  f.close()"
      ],
      "execution_count": null,
      "outputs": []
    },
    {
      "cell_type": "code",
      "metadata": {
        "colab": {
          "base_uri": "https://localhost:8080/"
        },
        "id": "WeWKVOLXIf_g",
        "outputId": "43e0d4ad-2140-4316-b40c-8720cff517b4"
      },
      "source": [
        "levenshteinDistance(\"kitten\",\"sitting\")"
      ],
      "execution_count": null,
      "outputs": [
        {
          "output_type": "stream",
          "name": "stdout",
          "text": [
            "[[0. 1. 2. 3. 4. 5. 6. 7.]\n",
            " [1. 1. 2. 3. 4. 5. 6. 7.]\n",
            " [2. 2. 1. 2. 3. 4. 5. 6.]\n",
            " [3. 3. 2. 1. 2. 3. 4. 5.]\n",
            " [4. 4. 3. 2. 1. 2. 3. 4.]\n",
            " [5. 5. 4. 3. 2. 2. 3. 4.]\n",
            " [6. 6. 5. 4. 3. 3. 2. 3.]]\n",
            "Total operations required to to change text is 3.0\n"
          ]
        }
      ]
    },
    {
      "cell_type": "markdown",
      "metadata": {
        "id": "e4iN6Zz-w2Rv"
      },
      "source": [
        "# Task 2\n",
        "Now modify the above written program in such a way that it takes two text files containing single- line and lowercase English sentences named as reference.txt and hypothesis.txt, and outputs the file result.txt containing Levenstein distance of these two files as below. The distance should be word level and not character level"
      ]
    },
    {
      "cell_type": "code",
      "metadata": {
        "id": "u9wPf2CkzEyM"
      },
      "source": [
        "f = open(\"/home/DIP/hypothesis.txt\", \"r\")\n",
        "file1 = f.read()"
      ],
      "execution_count": null,
      "outputs": []
    },
    {
      "cell_type": "code",
      "metadata": {
        "id": "HPv5GEYdzjT7"
      },
      "source": [
        "f = open(\"/home/DIP/reference.txt\", \"r\")\n",
        "file2 = f.read()"
      ],
      "execution_count": null,
      "outputs": []
    },
    {
      "cell_type": "code",
      "metadata": {
        "id": "n0zChz_dzyX7"
      },
      "source": [
        "file1_words = file1.split(\" \")\n",
        "file2_words = file2.split(\" \")"
      ],
      "execution_count": null,
      "outputs": []
    },
    {
      "cell_type": "code",
      "metadata": {
        "colab": {
          "base_uri": "https://localhost:8080/"
        },
        "id": "atjXA7fy0Cns",
        "outputId": "96724c03-efbe-46d0-9a14-b0896ba38142"
      },
      "source": [
        "levenshteinDistance(file1_words,file2_words)"
      ],
      "execution_count": null,
      "outputs": [
        {
          "output_type": "stream",
          "name": "stdout",
          "text": [
            "[[ 0.  1.  2.  3.  4.  5.  6.  7.  8.  9. 10. 11. 12. 13. 14. 15. 16. 17.\n",
            "  18. 19. 20.]\n",
            " [ 1.  0.  1.  2.  3.  4.  5.  6.  7.  8.  9. 10. 11. 12. 13. 14. 15. 16.\n",
            "  17. 18. 19.]\n",
            " [ 2.  1.  0.  1.  2.  3.  4.  5.  6.  7.  8.  9. 10. 11. 12. 13. 14. 15.\n",
            "  16. 17. 18.]\n",
            " [ 3.  2.  1.  1.  2.  3.  4.  5.  6.  7.  8.  9. 10. 11. 12. 13. 14. 15.\n",
            "  16. 17. 18.]\n",
            " [ 4.  3.  2.  2.  1.  2.  3.  4.  5.  6.  7.  8.  9. 10. 11. 12. 13. 14.\n",
            "  15. 16. 17.]\n",
            " [ 5.  4.  3.  3.  2.  1.  2.  3.  4.  5.  6.  7.  8.  9. 10. 11. 12. 13.\n",
            "  14. 15. 16.]\n",
            " [ 6.  5.  4.  4.  3.  2.  1.  2.  3.  4.  5.  6.  7.  8.  9. 10. 11. 12.\n",
            "  13. 14. 15.]\n",
            " [ 7.  6.  5.  5.  4.  3.  2.  1.  2.  3.  4.  5.  6.  7.  8.  9. 10. 11.\n",
            "  12. 13. 14.]\n",
            " [ 8.  7.  6.  6.  5.  4.  3.  2.  1.  2.  3.  4.  5.  6.  7.  8.  9. 10.\n",
            "  11. 12. 13.]\n",
            " [ 9.  8.  7.  7.  6.  5.  4.  3.  2.  1.  2.  3.  4.  5.  6.  7.  8.  9.\n",
            "  10. 11. 12.]\n",
            " [10.  9.  8.  8.  7.  6.  5.  4.  3.  2.  2.  3.  4.  5.  6.  7.  8.  9.\n",
            "  10. 11. 12.]\n",
            " [11. 10.  9.  9.  8.  7.  6.  5.  4.  3.  3.  3.  4.  5.  6.  7.  8.  9.\n",
            "  10. 11. 12.]\n",
            " [12. 11. 10. 10.  9.  8.  7.  6.  5.  4.  4.  4.  4.  4.  5.  6.  7.  8.\n",
            "   9. 10. 11.]\n",
            " [13. 12. 11. 11. 10.  9.  8.  7.  6.  5.  5.  5.  5.  5.  4.  5.  6.  7.\n",
            "   8.  9. 10.]\n",
            " [14. 13. 12. 12. 11. 10.  9.  8.  7.  6.  6.  6.  6.  6.  5.  4.  5.  6.\n",
            "   7.  8.  9.]\n",
            " [15. 14. 13. 13. 12. 11. 10.  9.  8.  7.  7.  7.  7.  7.  6.  5.  5.  5.\n",
            "   6.  7.  8.]\n",
            " [16. 15. 14. 14. 13. 12. 11. 10.  9.  8.  8.  8.  8.  8.  7.  6.  6.  6.\n",
            "   6.  7.  8.]\n",
            " [17. 16. 15. 15. 14. 13. 12. 11. 10.  9.  9.  9.  9.  9.  8.  7.  7.  7.\n",
            "   6.  7.  8.]\n",
            " [18. 17. 16. 16. 15. 14. 13. 12. 11. 10. 10. 10. 10. 10.  9.  8.  8.  8.\n",
            "   7.  6.  7.]]\n",
            "Total operations required to to change text is 7.0\n"
          ]
        }
      ]
    },
    {
      "cell_type": "code",
      "metadata": {
        "id": "hHEAI8WA5Nfe"
      },
      "source": [
        ""
      ],
      "execution_count": null,
      "outputs": []
    }
  ]
}